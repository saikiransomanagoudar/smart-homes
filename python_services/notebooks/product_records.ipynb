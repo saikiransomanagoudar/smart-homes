{
 "cells": [
  {
   "cell_type": "code",
   "execution_count": null,
   "metadata": {},
   "outputs": [
    {
     "name": "stderr",
     "output_type": "stream",
     "text": [
      "c:\\Users\\saiki\\miniconda3\\Lib\\site-packages\\elasticsearch\\_sync\\client\\__init__.py:402: SecurityWarning: Connecting to 'https://localhost:9200' using TLS with verify_certs=False is insecure\n",
      "  _transport = transport_class(\n"
     ]
    },
    {
     "name": "stdout",
     "output_type": "stream",
     "text": [
      "[DEBUG] Loaded product inventory from ../resources/Products.csv\n",
      "[DEBUG] Product inventory columns: ['name', 'price', 'description', 'category']\n",
      "[DEBUG] Sending prompt to GPT for category: Smart Locks\n",
      "[DEBUG] GPT response: Product Name: SecureLock Pro 3000  \n",
      "Product Price: $199.99  \n",
      "Category: Smart Locks  \n",
      "Description: The SecureLock Pro 3000 revolutionizes home security with its advanced biometric technology and smartphone integration. Featuring a sleek, modern design, this smart lock allows you to unlock your door using your fingerprint or mobile app from anywhere. With real-time alerts, you can monitor access and grant temporary codes to guests. Its durable, weather-resistant construction ensures reliability in any condition. Installation is a breeze with our step-by-step guide, and it seamlessly fits most standard doors. Elevate your home security effortlessly with the SecureLock Pro 3000, where safety meets convenience.\n",
      "[DEBUG] Sending prompt to GPT for category: Smart Thermostats\n",
      "[DEBUG] GPT response: Product Name: EcoSmart Thermostat Pro  \n",
      "Product Price: $129.99  \n",
      "Category: Smart Thermostats  \n",
      "Description: The EcoSmart Thermostat Pro is designed to optimize your home's energy efficiency while keeping you comfortable year-round. With its intuitive touchscreen interface and advanced learning capabilities, this smart thermostat adapts to your schedule and preferences, providing personalized climate control. Remote access via the EcoSmart app allows you to adjust settings from anywhere, ensuring your home is always at the perfect temperature. Energy-saving features, such as geofencing and usage reports, help you reduce bills and minimize your carbon footprint. Upgrade your home with the EcoSmart Thermostat Pro for a smarter, greener lifestyle.\n",
      "[DEBUG] Sending prompt to GPT for category: Smart Speakers\n",
      "[DEBUG] GPT response: Product Name: EchoSphere Smart Speaker  \n",
      "Product Price: $129.99  \n",
      "Category: Smart Speakers  \n",
      "Description: Experience the future of home automation with the EchoSphere Smart Speaker. This sleek, voice-activated speaker connects seamlessly to your smart home devices, allowing you to control lights, thermostats, and more with simple commands. With crystal-clear audio and advanced noise cancellation, enjoy your favorite music, podcasts, and audiobooks in any room. The built-in virtual assistant provides instant access to news, weather updates, and hands-free calling. Compact and stylish, the EchoSphere complements any décor while enhancing your daily routines. Elevate your living space and embrace convenience today!\n",
      "[DEBUG] Sending prompt to GPT for category: Smart Doorbells\n",
      "[DEBUG] GPT response: Product Name: SmartView Video Doorbell  \n",
      "Product Price: $129.99  \n",
      "Category: Smart Doorbells  \n",
      "Description: Enhance your home security with the SmartView Video Doorbell. Featuring high-definition video and two-way audio, this smart doorbell allows you to see and communicate with visitors from anywhere via your smartphone. With night vision capabilities and motion detection alerts, you can stay informed even in low-light conditions. The sleek, weather-resistant design seamlessly blends with your home’s exterior while the easy installation process ensures you’re up and running in no time. Never miss a visitor again and keep your home safe with SmartView.\n",
      "[DEBUG] Sending prompt to GPT for category: Smart Thermostats\n",
      "[DEBUG] GPT response: Product Name: EcoSmart Thermostat Pro  \n",
      "Product Price: $149.99  \n",
      "Category: Smart Thermostats  \n",
      "Description: The EcoSmart Thermostat Pro revolutionizes your home heating and cooling experience. Featuring advanced AI technology, it learns your schedule and preferences to optimize energy usage, saving you money on utility bills. With a sleek, user-friendly touchscreen interface and compatibility with major smart home systems, you can control your home’s temperature from anywhere using your smartphone. Its energy-saving mode and real-time energy usage reports empower you to make informed decisions. Upgrade to EcoSmart for ultimate comfort and efficiency while contributing to a greener planet. Enjoy a smarter home with just a touch!\n",
      "[DEBUG] Sending prompt to GPT for category: Smart Locks\n",
      "[DEBUG] GPT response: Product Name: SecureSmart Pro Lock  \n",
      "Product Price: $199.99  \n",
      "Category: Smart Locks  \n",
      "Description: The SecureSmart Pro Lock revolutionizes home security with advanced features and sleek design. This smart lock allows you to manage access from your smartphone, providing real-time alerts and remote locking/unlocking capabilities. With its keyless entry system, you can create unique access codes for family and friends, ensuring convenience without compromising safety. The durable, weather-resistant construction ensures long-lasting performance, while the easy installation process means you can upgrade your home security in minutes. Compatible with popular smart home systems, the SecureSmart Pro Lock offers peace of mind and seamless integration for a smarter living experience.\n",
      "[DEBUG] Sending prompt to GPT for category: Smart Thermostats\n",
      "[DEBUG] GPT response: Product Name: EcoSmart Thermostat Pro  \n",
      "Product Price: $149.99  \n",
      "Category: Smart Thermostats  \n",
      "Description: The EcoSmart Thermostat Pro is your ultimate solution for energy-efficient home climate control. Featuring advanced AI technology, it learns your heating and cooling preferences, automatically adjusting to optimize comfort while reducing energy costs. With an intuitive touchscreen interface and compatibility with popular smart home systems, you can effortlessly manage your home’s temperature from anywhere using your smartphone. Enjoy personalized schedules, real-time energy usage reports, and voice control capabilities. Make your home smarter and greener with the EcoSmart Thermostat Pro, designed to enhance your living environment while saving you money.\n",
      "[DEBUG] Sending prompt to GPT for category: Smart Speakers\n",
      "[DEBUG] GPT response: Product Name: EchoSphere 3000  \n",
      "Product Price: $149.99  \n",
      "Category: Smart Speakers  \n",
      "Description: Elevate your home audio experience with the EchoSphere 3000, a state-of-the-art smart speaker that combines stunning sound quality with advanced voice recognition. Featuring a sleek, modern design, this device seamlessly integrates with your smart home ecosystem, allowing you to control lights, thermostats, and more with just your voice. With built-in Alexa, you can play music, set reminders, and get news updates effortlessly. The EchoSphere 3000 also supports multi-room audio, so you can enjoy your favorite tunes throughout your home. Experience the future of home entertainment with the EchoSphere 3000!\n",
      "[DEBUG] Sending prompt to GPT for category: Smart Doorbells\n",
      "[DEBUG] GPT response: Product Name: Ring Video Doorbell Pro 2  \n",
      "Product Price: $249.99  \n",
      "Category: Smart Doorbells  \n",
      "Description: Experience enhanced home security with the Ring Video Doorbell Pro 2. This advanced smart doorbell features a high-definition video camera with 1536p resolution and a wider field of view, ensuring you never miss a visitor. With two-way audio, you can communicate with guests from anywhere using your smartphone. The motion detection alerts and customizable privacy settings provide peace of mind, while the sleek design complements any home exterior. Easy installation and compatibility with Alexa make it the perfect addition to your smart home ecosystem. Stay connected and secure with Ring!\n",
      "[DEBUG] Sending prompt to GPT for category: Smart Lighting\n",
      "[DEBUG] GPT response: Product Name: Lumos Smart LED Light Bulb  \n",
      "Product Price: $29.99  \n",
      "Category: Smart Lighting  \n",
      "Description: Transform your living space with the Lumos Smart LED Light Bulb. This energy-efficient bulb connects seamlessly to your Wi-Fi network, allowing you to control brightness and color temperature from anywhere using your smartphone or voice commands. With customizable schedules and scene presets, you can set the perfect ambiance for any occasion. Compatible with major smart home platforms, Lumos brings convenience and style to your home. Enjoy easy installation, long-lasting performance, and a vibrant range of colors that adapt to your lifestyle. Illuminate your world smarter with Lumos!\n",
      "[DEBUG] Generated 10 new products.\n",
      "[DEBUG] Combined product count: 38\n",
      "[DEBUG] Added embeddings to products.\n",
      "[DEBUG] Combined products saved to GeneratedProducts.csv\n"
     ]
    },
    {
     "name": "stderr",
     "output_type": "stream",
     "text": [
      "c:\\Users\\saiki\\miniconda3\\Lib\\site-packages\\urllib3\\connectionpool.py:1099: InsecureRequestWarning: Unverified HTTPS request is being made to host 'localhost'. Adding certificate verification is strongly advised. See: https://urllib3.readthedocs.io/en/latest/advanced-usage.html#tls-warnings\n",
      "  warnings.warn(\n",
      "c:\\Users\\saiki\\miniconda3\\Lib\\site-packages\\urllib3\\connectionpool.py:1099: InsecureRequestWarning: Unverified HTTPS request is being made to host 'localhost'. Adding certificate verification is strongly advised. See: https://urllib3.readthedocs.io/en/latest/advanced-usage.html#tls-warnings\n",
      "  warnings.warn(\n"
     ]
    },
    {
     "name": "stdout",
     "output_type": "stream",
     "text": [
      "[ERROR] Failed to index document to Elasticsearch: Blink Video Doorbell. Error: BadRequestError(400, 'document_parsing_exception', \"[1:16615] failed to parse: The [dense_vector] field [embedding] in doc [document with id 'mWSbUZMBGboUenIJZATo'] has more dimensions than defined in the mapping [768]\")\n",
      "[ERROR] Failed to index document to Elasticsearch: Tapo TP-Link Smart Doorbell. Error: BadRequestError(400, 'document_parsing_exception', \"[1:16616] failed to parse: The [dense_vector] field [embedding] in doc [document with id 'mmSbUZMBGboUenIJZQRu'] has more dimensions than defined in the mapping [768]\")\n",
      "[ERROR] Failed to index document to Elasticsearch: Ring Video Doorbell. Error: BadRequestError(400, 'document_parsing_exception', \"[1:16570] failed to parse: The [dense_vector] field [embedding] in doc [document with id 'm2SbUZMBGboUenIJZQSy'] has more dimensions than defined in the mapping [768]\")\n",
      "[ERROR] Failed to index document to Elasticsearch: Google Nest Doorbell. Error: BadRequestError(400, 'document_parsing_exception', \"[1:16496] failed to parse: The [dense_vector] field [embedding] in doc [document with id 'nGSbUZMBGboUenIJZQTO'] has more dimensions than defined in the mapping [768]\")\n",
      "[ERROR] Failed to index document to Elasticsearch: Smart Video Doorbell Camera Wireless. Error: BadRequestError(400, 'document_parsing_exception', \"[1:16630] failed to parse: The [dense_vector] field [embedding] in doc [document with id 'nWSbUZMBGboUenIJZQTm'] has more dimensions than defined in the mapping [768]\")\n"
     ]
    },
    {
     "name": "stderr",
     "output_type": "stream",
     "text": [
      "c:\\Users\\saiki\\miniconda3\\Lib\\site-packages\\urllib3\\connectionpool.py:1099: InsecureRequestWarning: Unverified HTTPS request is being made to host 'localhost'. Adding certificate verification is strongly advised. See: https://urllib3.readthedocs.io/en/latest/advanced-usage.html#tls-warnings\n",
      "  warnings.warn(\n",
      "c:\\Users\\saiki\\miniconda3\\Lib\\site-packages\\urllib3\\connectionpool.py:1099: InsecureRequestWarning: Unverified HTTPS request is being made to host 'localhost'. Adding certificate verification is strongly advised. See: https://urllib3.readthedocs.io/en/latest/advanced-usage.html#tls-warnings\n",
      "  warnings.warn(\n",
      "c:\\Users\\saiki\\miniconda3\\Lib\\site-packages\\urllib3\\connectionpool.py:1099: InsecureRequestWarning: Unverified HTTPS request is being made to host 'localhost'. Adding certificate verification is strongly advised. See: https://urllib3.readthedocs.io/en/latest/advanced-usage.html#tls-warnings\n",
      "  warnings.warn(\n",
      "c:\\Users\\saiki\\miniconda3\\Lib\\site-packages\\urllib3\\connectionpool.py:1099: InsecureRequestWarning: Unverified HTTPS request is being made to host 'localhost'. Adding certificate verification is strongly advised. See: https://urllib3.readthedocs.io/en/latest/advanced-usage.html#tls-warnings\n",
      "  warnings.warn(\n",
      "c:\\Users\\saiki\\miniconda3\\Lib\\site-packages\\urllib3\\connectionpool.py:1099: InsecureRequestWarning: Unverified HTTPS request is being made to host 'localhost'. Adding certificate verification is strongly advised. See: https://urllib3.readthedocs.io/en/latest/advanced-usage.html#tls-warnings\n",
      "  warnings.warn(\n"
     ]
    },
    {
     "name": "stdout",
     "output_type": "stream",
     "text": [
      "[ERROR] Failed to index document to Elasticsearch: Keyless Entry Door Lock with Handle. Error: BadRequestError(400, 'document_parsing_exception', \"[1:16635] failed to parse: The [dense_vector] field [embedding] in doc [document with id 'nmSbUZMBGboUenIJZgQl'] has more dimensions than defined in the mapping [768]\")\n",
      "[ERROR] Failed to index document to Elasticsearch: Philips Wi-Fi Smart Door Lock. Error: BadRequestError(400, 'document_parsing_exception', \"[1:16680] failed to parse: The [dense_vector] field [embedding] in doc [document with id 'n2SbUZMBGboUenIJZgRl'] has more dimensions than defined in the mapping [768]\")\n",
      "[ERROR] Failed to index document to Elasticsearch: Keypad Smart Door Lock. Error: BadRequestError(400, 'document_parsing_exception', \"[1:16646] failed to parse: The [dense_vector] field [embedding] in doc [document with id 'oGSbUZMBGboUenIJZgSn'] has more dimensions than defined in the mapping [768]\")\n",
      "[ERROR] Failed to index document to Elasticsearch: eufy Smart Lock C30. Error: BadRequestError(400, 'document_parsing_exception', \"[1:16596] failed to parse: The [dense_vector] field [embedding] in doc [document with id 'oWSbUZMBGboUenIJZgTk'] has more dimensions than defined in the mapping [768]\")\n"
     ]
    },
    {
     "name": "stderr",
     "output_type": "stream",
     "text": [
      "c:\\Users\\saiki\\miniconda3\\Lib\\site-packages\\urllib3\\connectionpool.py:1099: InsecureRequestWarning: Unverified HTTPS request is being made to host 'localhost'. Adding certificate verification is strongly advised. See: https://urllib3.readthedocs.io/en/latest/advanced-usage.html#tls-warnings\n",
      "  warnings.warn(\n",
      "c:\\Users\\saiki\\miniconda3\\Lib\\site-packages\\urllib3\\connectionpool.py:1099: InsecureRequestWarning: Unverified HTTPS request is being made to host 'localhost'. Adding certificate verification is strongly advised. See: https://urllib3.readthedocs.io/en/latest/advanced-usage.html#tls-warnings\n",
      "  warnings.warn(\n",
      "c:\\Users\\saiki\\miniconda3\\Lib\\site-packages\\urllib3\\connectionpool.py:1099: InsecureRequestWarning: Unverified HTTPS request is being made to host 'localhost'. Adding certificate verification is strongly advised. See: https://urllib3.readthedocs.io/en/latest/advanced-usage.html#tls-warnings\n",
      "  warnings.warn(\n",
      "c:\\Users\\saiki\\miniconda3\\Lib\\site-packages\\urllib3\\connectionpool.py:1099: InsecureRequestWarning: Unverified HTTPS request is being made to host 'localhost'. Adding certificate verification is strongly advised. See: https://urllib3.readthedocs.io/en/latest/advanced-usage.html#tls-warnings\n",
      "  warnings.warn(\n"
     ]
    },
    {
     "name": "stdout",
     "output_type": "stream",
     "text": [
      "[ERROR] Failed to index document to Elasticsearch: Yale Assure Lock 2 with Wi-Fi. Error: BadRequestError(400, 'document_parsing_exception', \"[1:16625] failed to parse: The [dense_vector] field [embedding] in doc [document with id 'omSbUZMBGboUenIJZwQf'] has more dimensions than defined in the mapping [768]\")\n",
      "[ERROR] Failed to index document to Elasticsearch: Keyless Entry Door Lock with Handle. Error: BadRequestError(400, 'document_parsing_exception', \"[1:16635] failed to parse: The [dense_vector] field [embedding] in doc [document with id 'o2SbUZMBGboUenIJZwRK'] has more dimensions than defined in the mapping [768]\")\n",
      "[ERROR] Failed to index document to Elasticsearch: Govee Smart Light Bulbs. Error: BadRequestError(400, 'document_parsing_exception', \"[1:16608] failed to parse: The [dense_vector] field [embedding] in doc [document with id 'pGSbUZMBGboUenIJZwRo'] has more dimensions than defined in the mapping [768]\")\n",
      "[ERROR] Failed to index document to Elasticsearch: GE CYNC A19 Smart LED Light Bulbs. Error: BadRequestError(400, 'document_parsing_exception', \"[1:16514] failed to parse: The [dense_vector] field [embedding] in doc [document with id 'pWSbUZMBGboUenIJZwR-'] has more dimensions than defined in the mapping [768]\")\n",
      "[ERROR] Failed to index document to Elasticsearch: Touch Bedside Table Lamp. Error: BadRequestError(400, 'document_parsing_exception', \"[1:16540] failed to parse: The [dense_vector] field [embedding] in doc [document with id 'pmSbUZMBGboUenIJZwSg'] has more dimensions than defined in the mapping [768]\")\n",
      "[ERROR] Failed to index document to Elasticsearch: Echo Glow. Error: BadRequestError(400, 'document_parsing_exception', \"[1:16454] failed to parse: The [dense_vector] field [embedding] in doc [document with id 'p2SbUZMBGboUenIJZwSz'] has more dimensions than defined in the mapping [768]\")\n",
      "[ERROR] Failed to index document to Elasticsearch: Govee RGBIC Floor Lamp. Error: BadRequestError(400, 'document_parsing_exception', \"[1:16473] failed to parse: The [dense_vector] field [embedding] in doc [document with id 'qGSbUZMBGboUenIJZwTJ'] has more dimensions than defined in the mapping [768]\")\n",
      "[ERROR] Failed to index document to Elasticsearch: Amazon Echo Studio. Error: BadRequestError(400, 'document_parsing_exception', \"[1:16531] failed to parse: The [dense_vector] field [embedding] in doc [document with id 'qWSbUZMBGboUenIJZwTr'] has more dimensions than defined in the mapping [768]\")\n"
     ]
    },
    {
     "name": "stderr",
     "output_type": "stream",
     "text": [
      "c:\\Users\\saiki\\miniconda3\\Lib\\site-packages\\urllib3\\connectionpool.py:1099: InsecureRequestWarning: Unverified HTTPS request is being made to host 'localhost'. Adding certificate verification is strongly advised. See: https://urllib3.readthedocs.io/en/latest/advanced-usage.html#tls-warnings\n",
      "  warnings.warn(\n",
      "c:\\Users\\saiki\\miniconda3\\Lib\\site-packages\\urllib3\\connectionpool.py:1099: InsecureRequestWarning: Unverified HTTPS request is being made to host 'localhost'. Adding certificate verification is strongly advised. See: https://urllib3.readthedocs.io/en/latest/advanced-usage.html#tls-warnings\n",
      "  warnings.warn(\n",
      "c:\\Users\\saiki\\miniconda3\\Lib\\site-packages\\urllib3\\connectionpool.py:1099: InsecureRequestWarning: Unverified HTTPS request is being made to host 'localhost'. Adding certificate verification is strongly advised. See: https://urllib3.readthedocs.io/en/latest/advanced-usage.html#tls-warnings\n",
      "  warnings.warn(\n",
      "c:\\Users\\saiki\\miniconda3\\Lib\\site-packages\\urllib3\\connectionpool.py:1099: InsecureRequestWarning: Unverified HTTPS request is being made to host 'localhost'. Adding certificate verification is strongly advised. See: https://urllib3.readthedocs.io/en/latest/advanced-usage.html#tls-warnings\n",
      "  warnings.warn(\n",
      "c:\\Users\\saiki\\miniconda3\\Lib\\site-packages\\urllib3\\connectionpool.py:1099: InsecureRequestWarning: Unverified HTTPS request is being made to host 'localhost'. Adding certificate verification is strongly advised. See: https://urllib3.readthedocs.io/en/latest/advanced-usage.html#tls-warnings\n",
      "  warnings.warn(\n",
      "c:\\Users\\saiki\\miniconda3\\Lib\\site-packages\\urllib3\\connectionpool.py:1099: InsecureRequestWarning: Unverified HTTPS request is being made to host 'localhost'. Adding certificate verification is strongly advised. See: https://urllib3.readthedocs.io/en/latest/advanced-usage.html#tls-warnings\n",
      "  warnings.warn(\n",
      "c:\\Users\\saiki\\miniconda3\\Lib\\site-packages\\urllib3\\connectionpool.py:1099: InsecureRequestWarning: Unverified HTTPS request is being made to host 'localhost'. Adding certificate verification is strongly advised. See: https://urllib3.readthedocs.io/en/latest/advanced-usage.html#tls-warnings\n",
      "  warnings.warn(\n",
      "c:\\Users\\saiki\\miniconda3\\Lib\\site-packages\\urllib3\\connectionpool.py:1099: InsecureRequestWarning: Unverified HTTPS request is being made to host 'localhost'. Adding certificate verification is strongly advised. See: https://urllib3.readthedocs.io/en/latest/advanced-usage.html#tls-warnings\n",
      "  warnings.warn(\n"
     ]
    },
    {
     "name": "stdout",
     "output_type": "stream",
     "text": [
      "[ERROR] Failed to index document to Elasticsearch: NOTABRICK Bluetooth Speakers. Error: BadRequestError(400, 'document_parsing_exception', \"[1:16603] failed to parse: The [dense_vector] field [embedding] in doc [document with id 'qmSbUZMBGboUenIJaAQs'] has more dimensions than defined in the mapping [768]\")\n",
      "[ERROR] Failed to index document to Elasticsearch: Google Nest Mini. Error: BadRequestError(400, 'document_parsing_exception', \"[1:16540] failed to parse: The [dense_vector] field [embedding] in doc [document with id 'q2SbUZMBGboUenIJaAR6'] has more dimensions than defined in the mapping [768]\")\n"
     ]
    },
    {
     "name": "stderr",
     "output_type": "stream",
     "text": [
      "c:\\Users\\saiki\\miniconda3\\Lib\\site-packages\\urllib3\\connectionpool.py:1099: InsecureRequestWarning: Unverified HTTPS request is being made to host 'localhost'. Adding certificate verification is strongly advised. See: https://urllib3.readthedocs.io/en/latest/advanced-usage.html#tls-warnings\n",
      "  warnings.warn(\n",
      "c:\\Users\\saiki\\miniconda3\\Lib\\site-packages\\urllib3\\connectionpool.py:1099: InsecureRequestWarning: Unverified HTTPS request is being made to host 'localhost'. Adding certificate verification is strongly advised. See: https://urllib3.readthedocs.io/en/latest/advanced-usage.html#tls-warnings\n",
      "  warnings.warn(\n"
     ]
    },
    {
     "name": "stdout",
     "output_type": "stream",
     "text": [
      "[ERROR] Failed to index document to Elasticsearch: Sonos Era 100. Error: BadRequestError(400, 'document_parsing_exception', \"[1:16554] failed to parse: The [dense_vector] field [embedding] in doc [document with id 'rGSbUZMBGboUenIJaQSZ'] has more dimensions than defined in the mapping [768]\")\n",
      "[ERROR] Failed to index document to Elasticsearch: Anker Soundcore 2 Portable Bluetooth Speaker. Error: BadRequestError(400, 'document_parsing_exception', \"[1:16600] failed to parse: The [dense_vector] field [embedding] in doc [document with id 'rWSbUZMBGboUenIJaQTw'] has more dimensions than defined in the mapping [768]\")\n"
     ]
    },
    {
     "name": "stderr",
     "output_type": "stream",
     "text": [
      "c:\\Users\\saiki\\miniconda3\\Lib\\site-packages\\urllib3\\connectionpool.py:1099: InsecureRequestWarning: Unverified HTTPS request is being made to host 'localhost'. Adding certificate verification is strongly advised. See: https://urllib3.readthedocs.io/en/latest/advanced-usage.html#tls-warnings\n",
      "  warnings.warn(\n",
      "c:\\Users\\saiki\\miniconda3\\Lib\\site-packages\\urllib3\\connectionpool.py:1099: InsecureRequestWarning: Unverified HTTPS request is being made to host 'localhost'. Adding certificate verification is strongly advised. See: https://urllib3.readthedocs.io/en/latest/advanced-usage.html#tls-warnings\n",
      "  warnings.warn(\n"
     ]
    },
    {
     "name": "stdout",
     "output_type": "stream",
     "text": [
      "[ERROR] Failed to index document to Elasticsearch: Edifier WiFi Smart Speaker. Error: BadRequestError(400, 'document_parsing_exception', \"[1:16541] failed to parse: The [dense_vector] field [embedding] in doc [document with id 'rmSbUZMBGboUenIJawQJ'] has more dimensions than defined in the mapping [768]\")\n",
      "[ERROR] Failed to index document to Elasticsearch: Amazon Smart Thermostat. Error: BadRequestError(400, 'document_parsing_exception', \"[1:16554] failed to parse: The [dense_vector] field [embedding] in doc [document with id 'r2SbUZMBGboUenIJbAQE'] has more dimensions than defined in the mapping [768]\")\n",
      "[ERROR] Failed to index document to Elasticsearch: GE CYNC Smart Thermostat. Error: BadRequestError(400, 'document_parsing_exception', \"[1:16543] failed to parse: The [dense_vector] field [embedding] in doc [document with id 'sGSbUZMBGboUenIJbAQh'] has more dimensions than defined in the mapping [768]\")\n"
     ]
    },
    {
     "name": "stderr",
     "output_type": "stream",
     "text": [
      "c:\\Users\\saiki\\miniconda3\\Lib\\site-packages\\urllib3\\connectionpool.py:1099: InsecureRequestWarning: Unverified HTTPS request is being made to host 'localhost'. Adding certificate verification is strongly advised. See: https://urllib3.readthedocs.io/en/latest/advanced-usage.html#tls-warnings\n",
      "  warnings.warn(\n",
      "c:\\Users\\saiki\\miniconda3\\Lib\\site-packages\\urllib3\\connectionpool.py:1099: InsecureRequestWarning: Unverified HTTPS request is being made to host 'localhost'. Adding certificate verification is strongly advised. See: https://urllib3.readthedocs.io/en/latest/advanced-usage.html#tls-warnings\n",
      "  warnings.warn(\n",
      "c:\\Users\\saiki\\miniconda3\\Lib\\site-packages\\urllib3\\connectionpool.py:1099: InsecureRequestWarning: Unverified HTTPS request is being made to host 'localhost'. Adding certificate verification is strongly advised. See: https://urllib3.readthedocs.io/en/latest/advanced-usage.html#tls-warnings\n",
      "  warnings.warn(\n"
     ]
    },
    {
     "name": "stdout",
     "output_type": "stream",
     "text": [
      "[ERROR] Failed to index document to Elasticsearch: Sensi Lite Smart Thermostat. Error: BadRequestError(400, 'document_parsing_exception', \"[1:16509] failed to parse: The [dense_vector] field [embedding] in doc [document with id 'sWSbUZMBGboUenIJbARa'] has more dimensions than defined in the mapping [768]\")\n",
      "[ERROR] Failed to index document to Elasticsearch: Google Nest Thermostat. Error: BadRequestError(400, 'document_parsing_exception', \"[1:16503] failed to parse: The [dense_vector] field [embedding] in doc [document with id 'smSbUZMBGboUenIJbAS3'] has more dimensions than defined in the mapping [768]\")\n",
      "[ERROR] Failed to index document to Elasticsearch: Honeywell Home RTH8800WF2022. Error: BadRequestError(400, 'document_parsing_exception', \"[1:16526] failed to parse: The [dense_vector] field [embedding] in doc [document with id 's2SbUZMBGboUenIJbATQ'] has more dimensions than defined in the mapping [768]\")\n",
      "[ERROR] Failed to index document to Elasticsearch: Vine Thermostat. Error: BadRequestError(400, 'document_parsing_exception', \"[1:16475] failed to parse: The [dense_vector] field [embedding] in doc [document with id 'tGSbUZMBGboUenIJbATr'] has more dimensions than defined in the mapping [768]\")\n",
      "[ERROR] Failed to index document to Elasticsearch: SecureLock Pro 3000  . Error: BadRequestError(400, 'document_parsing_exception', \"[1:17038] failed to parse: The [dense_vector] field [embedding] in doc [document with id 'tWSbUZMBGboUenIJbQQA'] has more dimensions than defined in the mapping [768]\")\n",
      "[ERROR] Failed to index document to Elasticsearch: EcoSmart Thermostat Pro  . Error: BadRequestError(400, 'document_parsing_exception', \"[1:17069] failed to parse: The [dense_vector] field [embedding] in doc [document with id 'tmSbUZMBGboUenIJbQQf'] has more dimensions than defined in the mapping [768]\")\n"
     ]
    },
    {
     "name": "stderr",
     "output_type": "stream",
     "text": [
      "c:\\Users\\saiki\\miniconda3\\Lib\\site-packages\\urllib3\\connectionpool.py:1099: InsecureRequestWarning: Unverified HTTPS request is being made to host 'localhost'. Adding certificate verification is strongly advised. See: https://urllib3.readthedocs.io/en/latest/advanced-usage.html#tls-warnings\n",
      "  warnings.warn(\n",
      "c:\\Users\\saiki\\miniconda3\\Lib\\site-packages\\urllib3\\connectionpool.py:1099: InsecureRequestWarning: Unverified HTTPS request is being made to host 'localhost'. Adding certificate verification is strongly advised. See: https://urllib3.readthedocs.io/en/latest/advanced-usage.html#tls-warnings\n",
      "  warnings.warn(\n",
      "c:\\Users\\saiki\\miniconda3\\Lib\\site-packages\\urllib3\\connectionpool.py:1099: InsecureRequestWarning: Unverified HTTPS request is being made to host 'localhost'. Adding certificate verification is strongly advised. See: https://urllib3.readthedocs.io/en/latest/advanced-usage.html#tls-warnings\n",
      "  warnings.warn(\n",
      "c:\\Users\\saiki\\miniconda3\\Lib\\site-packages\\urllib3\\connectionpool.py:1099: InsecureRequestWarning: Unverified HTTPS request is being made to host 'localhost'. Adding certificate verification is strongly advised. See: https://urllib3.readthedocs.io/en/latest/advanced-usage.html#tls-warnings\n",
      "  warnings.warn(\n",
      "c:\\Users\\saiki\\miniconda3\\Lib\\site-packages\\urllib3\\connectionpool.py:1099: InsecureRequestWarning: Unverified HTTPS request is being made to host 'localhost'. Adding certificate verification is strongly advised. See: https://urllib3.readthedocs.io/en/latest/advanced-usage.html#tls-warnings\n",
      "  warnings.warn(\n",
      "c:\\Users\\saiki\\miniconda3\\Lib\\site-packages\\urllib3\\connectionpool.py:1099: InsecureRequestWarning: Unverified HTTPS request is being made to host 'localhost'. Adding certificate verification is strongly advised. See: https://urllib3.readthedocs.io/en/latest/advanced-usage.html#tls-warnings\n",
      "  warnings.warn(\n"
     ]
    },
    {
     "name": "stdout",
     "output_type": "stream",
     "text": [
      "[ERROR] Failed to index document to Elasticsearch: EchoSphere Smart Speaker  . Error: BadRequestError(400, 'document_parsing_exception', \"[1:17044] failed to parse: The [dense_vector] field [embedding] in doc [document with id 't2SbUZMBGboUenIJbQRV'] has more dimensions than defined in the mapping [768]\")\n",
      "[ERROR] Failed to index document to Elasticsearch: SmartView Video Doorbell  . Error: BadRequestError(400, 'document_parsing_exception', \"[1:17031] failed to parse: The [dense_vector] field [embedding] in doc [document with id 'uGSbUZMBGboUenIJbQSq'] has more dimensions than defined in the mapping [768]\")\n",
      "[ERROR] Failed to index document to Elasticsearch: EcoSmart Thermostat Pro  . Error: BadRequestError(400, 'document_parsing_exception', \"[1:17030] failed to parse: The [dense_vector] field [embedding] in doc [document with id 'uWSbUZMBGboUenIJbQTc'] has more dimensions than defined in the mapping [768]\")\n",
      "[ERROR] Failed to index document to Elasticsearch: SecureSmart Pro Lock  . Error: BadRequestError(400, 'document_parsing_exception', \"[1:17118] failed to parse: The [dense_vector] field [embedding] in doc [document with id 'umSbUZMBGboUenIJbgQJ'] has more dimensions than defined in the mapping [768]\")\n",
      "[ERROR] Failed to index document to Elasticsearch: EcoSmart Thermostat Pro  . Error: BadRequestError(400, 'document_parsing_exception', \"[1:17118] failed to parse: The [dense_vector] field [embedding] in doc [document with id 'u2SbUZMBGboUenIJbgQm'] has more dimensions than defined in the mapping [768]\")\n"
     ]
    },
    {
     "name": "stderr",
     "output_type": "stream",
     "text": [
      "c:\\Users\\saiki\\miniconda3\\Lib\\site-packages\\urllib3\\connectionpool.py:1099: InsecureRequestWarning: Unverified HTTPS request is being made to host 'localhost'. Adding certificate verification is strongly advised. See: https://urllib3.readthedocs.io/en/latest/advanced-usage.html#tls-warnings\n",
      "  warnings.warn(\n",
      "c:\\Users\\saiki\\miniconda3\\Lib\\site-packages\\urllib3\\connectionpool.py:1099: InsecureRequestWarning: Unverified HTTPS request is being made to host 'localhost'. Adding certificate verification is strongly advised. See: https://urllib3.readthedocs.io/en/latest/advanced-usage.html#tls-warnings\n",
      "  warnings.warn(\n",
      "c:\\Users\\saiki\\miniconda3\\Lib\\site-packages\\urllib3\\connectionpool.py:1099: InsecureRequestWarning: Unverified HTTPS request is being made to host 'localhost'. Adding certificate verification is strongly advised. See: https://urllib3.readthedocs.io/en/latest/advanced-usage.html#tls-warnings\n",
      "  warnings.warn(\n",
      "c:\\Users\\saiki\\miniconda3\\Lib\\site-packages\\urllib3\\connectionpool.py:1099: InsecureRequestWarning: Unverified HTTPS request is being made to host 'localhost'. Adding certificate verification is strongly advised. See: https://urllib3.readthedocs.io/en/latest/advanced-usage.html#tls-warnings\n",
      "  warnings.warn(\n",
      "c:\\Users\\saiki\\miniconda3\\Lib\\site-packages\\urllib3\\connectionpool.py:1099: InsecureRequestWarning: Unverified HTTPS request is being made to host 'localhost'. Adding certificate verification is strongly advised. See: https://urllib3.readthedocs.io/en/latest/advanced-usage.html#tls-warnings\n",
      "  warnings.warn(\n"
     ]
    },
    {
     "name": "stdout",
     "output_type": "stream",
     "text": [
      "[ERROR] Failed to index document to Elasticsearch: EchoSphere 3000  . Error: BadRequestError(400, 'document_parsing_exception', \"[1:17044] failed to parse: The [dense_vector] field [embedding] in doc [document with id 'vGSbUZMBGboUenIJbgRA'] has more dimensions than defined in the mapping [768]\")\n",
      "[ERROR] Failed to index document to Elasticsearch: Ring Video Doorbell Pro 2  . Error: BadRequestError(400, 'document_parsing_exception', \"[1:17030] failed to parse: The [dense_vector] field [embedding] in doc [document with id 'vWSbUZMBGboUenIJbgR8'] has more dimensions than defined in the mapping [768]\")\n",
      "[ERROR] Failed to index document to Elasticsearch: Lumos Smart LED Light Bulb  . Error: BadRequestError(400, 'document_parsing_exception', \"[1:17033] failed to parse: The [dense_vector] field [embedding] in doc [document with id 'vmSbUZMBGboUenIJbgST'] has more dimensions than defined in the mapping [768]\")\n",
      "[INFO] Products and embeddings successfully indexed in Elasticsearch.\n"
     ]
    },
    {
     "name": "stderr",
     "output_type": "stream",
     "text": [
      "c:\\Users\\saiki\\miniconda3\\Lib\\site-packages\\urllib3\\connectionpool.py:1099: InsecureRequestWarning: Unverified HTTPS request is being made to host 'localhost'. Adding certificate verification is strongly advised. See: https://urllib3.readthedocs.io/en/latest/advanced-usage.html#tls-warnings\n",
      "  warnings.warn(\n",
      "c:\\Users\\saiki\\miniconda3\\Lib\\site-packages\\urllib3\\connectionpool.py:1099: InsecureRequestWarning: Unverified HTTPS request is being made to host 'localhost'. Adding certificate verification is strongly advised. See: https://urllib3.readthedocs.io/en/latest/advanced-usage.html#tls-warnings\n",
      "  warnings.warn(\n"
     ]
    }
   ],
   "source": [
    "import sys\n",
    "import os\n",
    "import openai\n",
    "import pandas as pd\n",
    "from elasticsearch import Elasticsearch\n",
    "from dotenv import load_dotenv\n",
    "import random\n",
    "import mysql.connector\n",
    "from mysql.connector import Error\n",
    "\n",
    "sys.path.append(os.path.abspath(\"../../\"))\n",
    "sys.path.append(os.path.abspath(\"../../../\"))  # Adjust the path to include the directory containing the 'app' module\n",
    "\n",
    "from app.config import ELASTICSEARCH_HOST, ELASTICSEARCH_USER, ELASTICSEARCH_PASS\n",
    "\n",
    "# Load API keys and environment variables\n",
    "load_dotenv()\n",
    "openai.api_key = os.getenv(\"OPENAI_API_KEY\")\n",
    "\n",
    "# Elasticsearch setup\n",
    "es = Elasticsearch(\n",
    "    ELASTICSEARCH_HOST,\n",
    "    basic_auth=(ELASTICSEARCH_USER, ELASTICSEARCH_PASS),\n",
    "    verify_certs=False\n",
    ")\n",
    "\n",
    "# Load Products.csv\n",
    "csv_path = \"../resources/Products.csv\"\n",
    "try:\n",
    "    product_inventory = pd.read_csv(csv_path)\n",
    "    print(f\"[DEBUG] Loaded product inventory from {csv_path}\")\n",
    "except Exception as e:\n",
    "    print(f\"[ERROR] Failed to load product inventory: {e}\")\n",
    "    sys.exit(1)\n",
    "\n",
    "# Keep only required columns\n",
    "product_inventory = product_inventory[[\"name\", \"price\", \"description\", \"category\"]]\n",
    "print(f\"[DEBUG] Product inventory columns: {list(product_inventory.columns)}\")\n",
    "\n",
    "# Generate new products using OpenAI GPT\n",
    "def generate_product_record(category):\n",
    "    prompt = f\"\"\"\n",
    "    Generate a product record for a SmartHome product in the category '{category}' with description. \n",
    "    The product record should include:\n",
    "    - Product Name\n",
    "    - Product Price\n",
    "    - Category\n",
    "    - Description (100 words max)\n",
    "    Provide it in the following format:\n",
    "     Product Name: ...\n",
    "     Product Price: ...\n",
    "     Category: ...\n",
    "     Description: ...\n",
    "    \"\"\"\n",
    "    try:\n",
    "        print(f\"[DEBUG] Sending prompt to GPT for category: {category}\")\n",
    "        response = openai.ChatCompletion.create(\n",
    "            model=\"gpt-4o-mini\",\n",
    "            messages=[\n",
    "                {\"role\": \"system\", \"content\": \"You are a product description generator.\"},\n",
    "                {\"role\": \"user\", \"content\": prompt},\n",
    "            ],\n",
    "            max_tokens=200,\n",
    "            temperature=0.7,\n",
    "        )\n",
    "        product_description = response[\"choices\"][0][\"message\"][\"content\"].strip()\n",
    "        print(f\"[DEBUG] GPT response: {product_description}\")\n",
    "        return product_description\n",
    "    except Exception as e:\n",
    "        print(f\"[ERROR] GPT failed to generate product: {e}\")\n",
    "        return None\n",
    "\n",
    "# Generate 10 new products\n",
    "categories = [\"Smart Doorbells\", \"Smart Locks\", \"Smart Speakers\", \"Smart Lighting\", \"Smart Thermostats\"]\n",
    "new_products = []\n",
    "\n",
    "for _ in range(10):\n",
    "    category = random.choice(categories)\n",
    "    product_record = generate_product_record(category)\n",
    "    if not product_record:\n",
    "        print(\"[ERROR] Skipping product generation due to GPT error.\")\n",
    "        continue\n",
    "\n",
    "    try:\n",
    "        product_lines = product_record.split(\"\\n\")\n",
    "        product_dict = {\n",
    "            \"name\": product_lines[0].split(\": \")[1],\n",
    "            \"price\": float(product_lines[1].split(\": \")[1].replace(\"$\", \"\")),\n",
    "            \"category\": product_lines[2].split(\": \")[1],\n",
    "            \"description\": product_lines[3].split(\": \")[1],\n",
    "        }\n",
    "        new_products.append(product_dict)\n",
    "    except IndexError as e:\n",
    "        print(f\"[ERROR] Failed to parse GPT product record: {product_record}. Error: {e}\")\n",
    "\n",
    "print(f\"[DEBUG] Generated {len(new_products)} new products.\")\n",
    "\n",
    "# Convert new products to DataFrame\n",
    "new_products_df = pd.DataFrame(new_products)\n",
    "\n",
    "# Combine existing and new products\n",
    "combined_products = pd.concat([product_inventory, new_products_df], ignore_index=True)\n",
    "print(f\"[DEBUG] Combined product count: {len(combined_products)}\")\n",
    "\n",
    "# Generate embeddings using text-embedding-3-small model\n",
    "def generate_embedding(text):\n",
    "    try:\n",
    "        response = openai.Embedding.create(\n",
    "            model=\"text-embedding-3-small\",\n",
    "            input=text,\n",
    "        )\n",
    "        return response[\"data\"][0][\"embedding\"]\n",
    "    except Exception as e:\n",
    "        print(f\"[ERROR] Failed to generate embedding for text: {text}. Error: {e}\")\n",
    "        return None\n",
    "\n",
    "# Add embeddings to the combined dataset\n",
    "combined_products[\"embedding\"] = combined_products[\"description\"].apply(generate_embedding)\n",
    "print(f\"[DEBUG] Added embeddings to products.\")\n",
    "\n",
    "# Save combined products locally for reference\n",
    "try:\n",
    "    combined_products.to_csv(\"../resources/GeneratedProducts.csv\", index=False)\n",
    "    print(\"[DEBUG] Combined products saved to GeneratedProducts.csv\")\n",
    "except Exception as e:\n",
    "    print(f\"[ERROR] Failed to save combined products: {e}\")\n",
    "\n",
    "# Ensure Elasticsearch index is created with correct mappings\n",
    "index_name = \"product_records\"\n",
    "if not es.indices.exists(index=index_name):\n",
    "    es.indices.create(\n",
    "        index=index_name,\n",
    "        body={\n",
    "            \"mappings\": {\n",
    "                \"properties\": {\n",
    "                    \"name\": {\"type\": \"text\"},\n",
    "                    \"price\": {\"type\": \"float\"},\n",
    "                    \"category\": {\"type\": \"keyword\"},\n",
    "                    \"description\": {\"type\": \"text\"},\n",
    "                    \"embedding\": {\"type\": \"dense_vector\", \"dims\": 768}\n",
    "                }\n",
    "            }\n",
    "        }\n",
    "    )\n",
    "    print(f\"[DEBUG] Created Elasticsearch index: {index_name}\")\n",
    "\n",
    "# Store combined products in Elasticsearch\n",
    "for _, row in combined_products.iterrows():\n",
    "    # Check if embedding is valid\n",
    "    if row[\"embedding\"] is None:\n",
    "        print(f\"[WARNING] Skipping product due to missing embedding: {row['name']}\")\n",
    "        continue\n",
    "\n",
    "    doc = {\n",
    "        \"name\": row[\"name\"],\n",
    "        \"price\": row[\"price\"],\n",
    "        \"category\": row[\"category\"],\n",
    "        \"description\": row[\"description\"],\n",
    "        \"embedding\": row[\"embedding\"],  # Ensure embedding is a list of floats\n",
    "    }\n",
    "    try:\n",
    "        es.index(index=index_name, body=doc)\n",
    "        print(f\"[DEBUG] Indexed product: {row['name']}\")\n",
    "    except Exception as e:\n",
    "        print(f\"[ERROR] Failed to index document to Elasticsearch: {row['name']}. Error: {e}\")\n",
    "\n",
    "print(\"[INFO] Products and embeddings successfully indexed in Elasticsearch.\")\n",
    "\n"
   ]
  }
 ],
 "metadata": {
  "kernelspec": {
   "display_name": "base",
   "language": "python",
   "name": "python3"
  },
  "language_info": {
   "codemirror_mode": {
    "name": "ipython",
    "version": 3
   },
   "file_extension": ".py",
   "mimetype": "text/x-python",
   "name": "python",
   "nbconvert_exporter": "python",
   "pygments_lexer": "ipython3",
   "version": "3.12.4"
  }
 },
 "nbformat": 4,
 "nbformat_minor": 2
}
